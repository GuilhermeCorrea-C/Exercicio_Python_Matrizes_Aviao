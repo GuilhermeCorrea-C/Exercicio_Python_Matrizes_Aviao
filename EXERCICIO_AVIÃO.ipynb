{
  "nbformat": 4,
  "nbformat_minor": 0,
  "metadata": {
    "colab": {
      "provenance": [],
      "authorship_tag": "ABX9TyME4GB5TyJih/rVO/lj1QnP",
      "include_colab_link": true
    },
    "kernelspec": {
      "name": "python3",
      "display_name": "Python 3"
    },
    "language_info": {
      "name": "python"
    }
  },
  "cells": [
    {
      "cell_type": "markdown",
      "metadata": {
        "id": "view-in-github",
        "colab_type": "text"
      },
      "source": [
        "<a href=\"https://colab.research.google.com/github/GuilhermeCorrea-C/Exercicio_Python_Matrizes_Aviao/blob/main/EXERCICIO_AVI%C3%83O.ipynb\" target=\"_parent\"><img src=\"https://colab.research.google.com/assets/colab-badge.svg\" alt=\"Open In Colab\"/></a>"
      ]
    },
    {
      "cell_type": "code",
      "execution_count": 1,
      "metadata": {
        "id": "twNdBbqOKa0I",
        "colab": {
          "base_uri": "https://localhost:8080/"
        },
        "outputId": "485d314a-522a-4a49-9b93-ba2d5fbf28b9"
      },
      "outputs": [
        {
          "output_type": "stream",
          "name": "stdout",
          "text": [
            "INSIRA A FILEIRA: 2\n",
            "INSIRA O ASSENTO: 3\n",
            "CONTINUAR? s - SIM, n - NÃO s\n",
            "INSIRA A FILEIRA: 5\n",
            "INSIRA O ASSENTO: 2\n",
            "CONTINUAR? s - SIM, n - NÃO n\n",
            "O  O  O  \n",
            "O  O  X  \n",
            "O  O  O  \n",
            "O  O  O  \n",
            "O  X  O  \n",
            "O  O  O  \n",
            "O  O  O  \n",
            "O  O  O  \n",
            "O  O  O  \n",
            "O  O  O  \n",
            "a fileira 1 tem 3 assentos livres\n",
            "a fileira 2 tem 2 assentos livres\n",
            "a fileira 3 tem 3 assentos livres\n",
            "a fileira 4 tem 3 assentos livres\n",
            "a fileira 5 tem 2 assentos livres\n",
            "a fileira 6 tem 3 assentos livres\n",
            "a fileira 7 tem 3 assentos livres\n",
            "a fileira 8 tem 3 assentos livres\n",
            "a fileira 9 tem 3 assentos livres\n",
            "a fileira 10 tem 3 assentos livres\n"
          ]
        }
      ],
      "source": [
        "def assentos(matriz):\n",
        "  continuar = 's'\n",
        "  while continuar == 's':\n",
        "    f = int(input('INSIRA A FILEIRA: '))\n",
        "    a = int(input('INSIRA O ASSENTO: '))\n",
        "    if matriz[f-1][a-1] == 'X':\n",
        "      print('POLTRONA OCUPADA, SELECIONE OUTRA!')\n",
        "    else:\n",
        "      matriz[f-1][a-1] = 'X'\n",
        "    continuar = input('CONTINUAR? s - SIM, n - NÃO ')\n",
        "  return matriz\n",
        "\n",
        "def assentosLivres(matrix, lista):\n",
        "  for i in range(len(matrix)):\n",
        "    for j in range(len(matrix[i])):\n",
        "      if matrix[i][j] == 'O':\n",
        "        lista[i] += 1 \n",
        "  return lista\n",
        "\n",
        "def imprimeMatriz(listas):\n",
        "  for i in range(len(listas)):\n",
        "    for j in range(len(listas[i])):\n",
        "      print(listas[i][j], ' ', end='')\n",
        "    print('')\n",
        "\n",
        "def main():\n",
        "  mm = [['O']*3 for i in range(10)]\n",
        "  listaAssentos = [0]*len(mm)\n",
        "  matr = assentos(mm)\n",
        "  imprimeMatriz(mm)\n",
        "  livres = assentosLivres(mm, listaAssentos)\n",
        "  for i in range(len(livres)):\n",
        "    print(f'a fileira {i+1} tem {livres[i]} assentos livres')\n",
        "\n",
        "main()"
      ]
    }
  ]
}